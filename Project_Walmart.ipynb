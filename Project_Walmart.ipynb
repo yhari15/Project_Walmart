{
 "cells": [
  {
   "cell_type": "markdown",
   "metadata": {},
   "source": [
    "#*WALMART SALES PREDICTION*"
   ]
  },
  {
   "cell_type": "code",
   "execution_count": 1,
   "metadata": {},
   "outputs": [],
   "source": [
    "#Importing the necessary libraries\n",
    "import numpy as np\n",
    "import pandas as pd\n",
    "import matplotlib.pyplot as plt\n",
    "import seaborn as sns"
   ]
  },
  {
   "cell_type": "code",
   "execution_count": 2,
   "metadata": {},
   "outputs": [
    {
     "data": {
      "text/html": [
       "<div>\n",
       "<style scoped>\n",
       "    .dataframe tbody tr th:only-of-type {\n",
       "        vertical-align: middle;\n",
       "    }\n",
       "\n",
       "    .dataframe tbody tr th {\n",
       "        vertical-align: top;\n",
       "    }\n",
       "\n",
       "    .dataframe thead th {\n",
       "        text-align: right;\n",
       "    }\n",
       "</style>\n",
       "<table border=\"1\" class=\"dataframe\">\n",
       "  <thead>\n",
       "    <tr style=\"text-align: right;\">\n",
       "      <th></th>\n",
       "      <th>Store</th>\n",
       "      <th>Date</th>\n",
       "      <th>Weekly_Sales</th>\n",
       "      <th>Holiday_Flag</th>\n",
       "      <th>Temperature</th>\n",
       "      <th>Fuel_Price</th>\n",
       "      <th>CPI</th>\n",
       "      <th>Unemployment</th>\n",
       "    </tr>\n",
       "  </thead>\n",
       "  <tbody>\n",
       "    <tr>\n",
       "      <th>0</th>\n",
       "      <td>1</td>\n",
       "      <td>05-02-2010</td>\n",
       "      <td>1643690.90</td>\n",
       "      <td>0</td>\n",
       "      <td>42.31</td>\n",
       "      <td>2.572</td>\n",
       "      <td>211.096358</td>\n",
       "      <td>8.106</td>\n",
       "    </tr>\n",
       "    <tr>\n",
       "      <th>1</th>\n",
       "      <td>1</td>\n",
       "      <td>12-02-2010</td>\n",
       "      <td>1641957.44</td>\n",
       "      <td>1</td>\n",
       "      <td>38.51</td>\n",
       "      <td>2.548</td>\n",
       "      <td>211.242170</td>\n",
       "      <td>8.106</td>\n",
       "    </tr>\n",
       "    <tr>\n",
       "      <th>2</th>\n",
       "      <td>1</td>\n",
       "      <td>19-02-2010</td>\n",
       "      <td>1611968.17</td>\n",
       "      <td>0</td>\n",
       "      <td>39.93</td>\n",
       "      <td>2.514</td>\n",
       "      <td>211.289143</td>\n",
       "      <td>8.106</td>\n",
       "    </tr>\n",
       "    <tr>\n",
       "      <th>3</th>\n",
       "      <td>1</td>\n",
       "      <td>26-02-2010</td>\n",
       "      <td>1409727.59</td>\n",
       "      <td>0</td>\n",
       "      <td>46.63</td>\n",
       "      <td>2.561</td>\n",
       "      <td>211.319643</td>\n",
       "      <td>8.106</td>\n",
       "    </tr>\n",
       "    <tr>\n",
       "      <th>4</th>\n",
       "      <td>1</td>\n",
       "      <td>05-03-2010</td>\n",
       "      <td>1554806.68</td>\n",
       "      <td>0</td>\n",
       "      <td>46.50</td>\n",
       "      <td>2.625</td>\n",
       "      <td>211.350143</td>\n",
       "      <td>8.106</td>\n",
       "    </tr>\n",
       "  </tbody>\n",
       "</table>\n",
       "</div>"
      ],
      "text/plain": [
       "   Store        Date  Weekly_Sales  Holiday_Flag  Temperature  Fuel_Price  \\\n",
       "0      1  05-02-2010    1643690.90             0        42.31       2.572   \n",
       "1      1  12-02-2010    1641957.44             1        38.51       2.548   \n",
       "2      1  19-02-2010    1611968.17             0        39.93       2.514   \n",
       "3      1  26-02-2010    1409727.59             0        46.63       2.561   \n",
       "4      1  05-03-2010    1554806.68             0        46.50       2.625   \n",
       "\n",
       "          CPI  Unemployment  \n",
       "0  211.096358         8.106  \n",
       "1  211.242170         8.106  \n",
       "2  211.289143         8.106  \n",
       "3  211.319643         8.106  \n",
       "4  211.350143         8.106  "
      ]
     },
     "execution_count": 2,
     "metadata": {},
     "output_type": "execute_result"
    }
   ],
   "source": [
    "#uploading dataset and checking its attributes\n",
    "walmart_df=pd.read_csv('Walmart_Store_sales.csv')\n",
    "walmart_df.head()"
   ]
  },
  {
   "cell_type": "code",
   "execution_count": 3,
   "metadata": {},
   "outputs": [
    {
     "data": {
      "text/plain": [
       "(6435, 8)"
      ]
     },
     "execution_count": 3,
     "metadata": {},
     "output_type": "execute_result"
    }
   ],
   "source": [
    "#to check the volume of data\n",
    "walmart_df.shape"
   ]
  },
  {
   "cell_type": "code",
   "execution_count": 4,
   "metadata": {},
   "outputs": [
    {
     "name": "stdout",
     "output_type": "stream",
     "text": [
      "<class 'pandas.core.frame.DataFrame'>\n",
      "RangeIndex: 6435 entries, 0 to 6434\n",
      "Data columns (total 8 columns):\n",
      " #   Column        Non-Null Count  Dtype  \n",
      "---  ------        --------------  -----  \n",
      " 0   Store         6435 non-null   int64  \n",
      " 1   Date          6435 non-null   object \n",
      " 2   Weekly_Sales  6435 non-null   float64\n",
      " 3   Holiday_Flag  6435 non-null   int64  \n",
      " 4   Temperature   6435 non-null   float64\n",
      " 5   Fuel_Price    6435 non-null   float64\n",
      " 6   CPI           6435 non-null   float64\n",
      " 7   Unemployment  6435 non-null   float64\n",
      "dtypes: float64(5), int64(2), object(1)\n",
      "memory usage: 402.3+ KB\n"
     ]
    }
   ],
   "source": [
    "#using info function to check for null values in dataset\n",
    "walmart_df.info()"
   ]
  },
  {
   "cell_type": "markdown",
   "metadata": {},
   "source": [
    "*Conclusion:1) No null values/missing values\n",
    "            2) There are no categorical values, so there is no need of encoding \n",
    "            3) There is datatime data present so we need to convert it to datatime datatype*"
   ]
  },
  {
   "cell_type": "code",
   "execution_count": 5,
   "metadata": {},
   "outputs": [
    {
     "name": "stdout",
     "output_type": "stream",
     "text": [
      "   Store       Date  Weekly_Sales  Holiday_Flag  Temperature  Fuel_Price  \\\n",
      "0      1 2010-05-02    1643690.90             0        42.31       2.572   \n",
      "1      1 2010-12-02    1641957.44             1        38.51       2.548   \n",
      "2      1 2010-02-19    1611968.17             0        39.93       2.514   \n",
      "3      1 2010-02-26    1409727.59             0        46.63       2.561   \n",
      "4      1 2010-05-03    1554806.68             0        46.50       2.625   \n",
      "\n",
      "          CPI  Unemployment  \n",
      "0  211.096358         8.106  \n",
      "1  211.242170         8.106  \n",
      "2  211.289143         8.106  \n",
      "3  211.319643         8.106  \n",
      "4  211.350143         8.106  \n",
      "<class 'pandas.core.frame.DataFrame'>\n",
      "RangeIndex: 6435 entries, 0 to 6434\n",
      "Data columns (total 8 columns):\n",
      " #   Column        Non-Null Count  Dtype         \n",
      "---  ------        --------------  -----         \n",
      " 0   Store         6435 non-null   int64         \n",
      " 1   Date          6435 non-null   datetime64[ns]\n",
      " 2   Weekly_Sales  6435 non-null   float64       \n",
      " 3   Holiday_Flag  6435 non-null   int64         \n",
      " 4   Temperature   6435 non-null   float64       \n",
      " 5   Fuel_Price    6435 non-null   float64       \n",
      " 6   CPI           6435 non-null   float64       \n",
      " 7   Unemployment  6435 non-null   float64       \n",
      "dtypes: datetime64[ns](1), float64(5), int64(2)\n",
      "memory usage: 402.3 KB\n",
      "None\n"
     ]
    }
   ],
   "source": [
    "#coverting the Date column data to datatime datatype inorder to pandas functions on the data\n",
    "walmart_df['Date']=pd.to_datetime(walmart_df['Date']) #to_datetime is used to covert the data to datetime format\n",
    "print(walmart_df.head()) #to check converted format\n",
    "print(walmart_df.info()) #to confirm the datatype"
   ]
  },
  {
   "cell_type": "code",
   "execution_count": 6,
   "metadata": {},
   "outputs": [
    {
     "data": {
      "text/plain": [
       "<AxesSubplot:>"
      ]
     },
     "execution_count": 6,
     "metadata": {},
     "output_type": "execute_result"
    },
    {
     "data": {
      "image/png": "[encoded data removed]",
      "text/plain": [
       "<Figure size 432x288 with 2 Axes>"
      ]
     },
     "metadata": {
      "needs_background": "light"
     },
     "output_type": "display_data"
    }
   ],
   "source": [
    "#To check for correlation between data attributes\n",
    "sns.heatmap(walmart_df.corr(),annot=True)"
   ]
  },
  {
   "cell_type": "markdown",
   "metadata": {},
   "source": [
    "*#from this we can infer that Fuel_price has very minimal impact on my weekly sales, so we can drop that column from analysis if we want to*"
   ]
  },
  {
   "cell_type": "code",
   "execution_count": 7,
   "metadata": {},
   "outputs": [
    {
     "name": "stdout",
     "output_type": "stream",
     "text": [
      "Accept Alternate Hypothesis----> CPI will impact Weekly_sales\n"
     ]
    }
   ],
   "source": [
    "#Hypothesis Testing between CPI and Sales\n",
    "from scipy import stats\n",
    "coeff,p_val_CPI=stats.pearsonr(walmart_df['Weekly_Sales'],walmart_df['CPI'])\n",
    "if p_val_CPI<0.05:\n",
    "    print('Accept Alternate Hypothesis----> CPI will impact Weekly_sales')\n",
    "else:\n",
    "    print('Accept Null Hypothesis----> CPI has no impact Weekly_sales')\n",
    "          "
   ]
  },
  {
   "cell_type": "code",
   "execution_count": 8,
   "metadata": {},
   "outputs": [
    {
     "name": "stdout",
     "output_type": "stream",
     "text": [
      "Accept Alternate Hypothesis----> Unemployment will impact Weekly_sales\n"
     ]
    }
   ],
   "source": [
    "#Hypothesis Testing between Unemployment and Sales\n",
    "from scipy import stats\n",
    "coeff,p_val_Unemployment=stats.pearsonr(walmart_df['Weekly_Sales'],walmart_df['Unemployment'])\n",
    "if p_val_Unemployment<0.05:\n",
    "    print('Accept Alternate Hypothesis----> Unemployment will impact Weekly_sales')\n",
    "else:\n",
    "    print('Accept Null Hypothesis----> Unemployment has no impact Weekly_sales')"
   ]
  },
  {
   "cell_type": "code",
   "execution_count": 9,
   "metadata": {},
   "outputs": [
    {
     "name": "stdout",
     "output_type": "stream",
     "text": [
      "Accept Null Hypothesis----> Fuel_Price has no impact Weekly_sales\n"
     ]
    }
   ],
   "source": [
    "#Hypothesis Testing between Fuel_Price and Sales\n",
    "from scipy import stats\n",
    "coeff,p_val_Fuel_Price=stats.pearsonr(walmart_df['Weekly_Sales'],walmart_df['Fuel_Price'])\n",
    "if p_val_Fuel_Price<0.05:\n",
    "    print('Accept Alternate Hypothesis----> Fuel_Price will impact Weekly_sales')\n",
    "else:\n",
    "    print('Accept Null Hypothesis----> Fuel_Price has no impact Weekly_sales')"
   ]
  },
  {
   "cell_type": "markdown",
   "metadata": {},
   "source": [
    "*#From the above three hypothesis testing we can infer that CPI and Unemployment column data will affect the weekly sales\n",
    "#But contrary to this Fuel_Price has no impact on Weekly_sales so i dont need to use this column data while building a model* "
   ]
  },
  {
   "cell_type": "code",
   "execution_count": 10,
   "metadata": {},
   "outputs": [
    {
     "data": {
      "text/html": [
       "<div>\n",
       "<style scoped>\n",
       "    .dataframe tbody tr th:only-of-type {\n",
       "        vertical-align: middle;\n",
       "    }\n",
       "\n",
       "    .dataframe tbody tr th {\n",
       "        vertical-align: top;\n",
       "    }\n",
       "\n",
       "    .dataframe thead th {\n",
       "        text-align: right;\n",
       "    }\n",
       "</style>\n",
       "<table border=\"1\" class=\"dataframe\">\n",
       "  <thead>\n",
       "    <tr style=\"text-align: right;\">\n",
       "      <th></th>\n",
       "      <th>Store</th>\n",
       "      <th>Date</th>\n",
       "      <th>Weekly_Sales</th>\n",
       "      <th>Holiday_Flag</th>\n",
       "      <th>Temperature</th>\n",
       "      <th>CPI</th>\n",
       "      <th>Unemployment</th>\n",
       "    </tr>\n",
       "  </thead>\n",
       "  <tbody>\n",
       "    <tr>\n",
       "      <th>0</th>\n",
       "      <td>1</td>\n",
       "      <td>2010-05-02</td>\n",
       "      <td>1643690.90</td>\n",
       "      <td>0</td>\n",
       "      <td>42.31</td>\n",
       "      <td>211.096358</td>\n",
       "      <td>8.106</td>\n",
       "    </tr>\n",
       "    <tr>\n",
       "      <th>1</th>\n",
       "      <td>1</td>\n",
       "      <td>2010-12-02</td>\n",
       "      <td>1641957.44</td>\n",
       "      <td>1</td>\n",
       "      <td>38.51</td>\n",
       "      <td>211.242170</td>\n",
       "      <td>8.106</td>\n",
       "    </tr>\n",
       "    <tr>\n",
       "      <th>2</th>\n",
       "      <td>1</td>\n",
       "      <td>2010-02-19</td>\n",
       "      <td>1611968.17</td>\n",
       "      <td>0</td>\n",
       "      <td>39.93</td>\n",
       "      <td>211.289143</td>\n",
       "      <td>8.106</td>\n",
       "    </tr>\n",
       "    <tr>\n",
       "      <th>3</th>\n",
       "      <td>1</td>\n",
       "      <td>2010-02-26</td>\n",
       "      <td>1409727.59</td>\n",
       "      <td>0</td>\n",
       "      <td>46.63</td>\n",
       "      <td>211.319643</td>\n",
       "      <td>8.106</td>\n",
       "    </tr>\n",
       "    <tr>\n",
       "      <th>4</th>\n",
       "      <td>1</td>\n",
       "      <td>2010-05-03</td>\n",
       "      <td>1554806.68</td>\n",
       "      <td>0</td>\n",
       "      <td>46.50</td>\n",
       "      <td>211.350143</td>\n",
       "      <td>8.106</td>\n",
       "    </tr>\n",
       "  </tbody>\n",
       "</table>\n",
       "</div>"
      ],
      "text/plain": [
       "   Store       Date  Weekly_Sales  Holiday_Flag  Temperature         CPI  \\\n",
       "0      1 2010-05-02    1643690.90             0        42.31  211.096358   \n",
       "1      1 2010-12-02    1641957.44             1        38.51  211.242170   \n",
       "2      1 2010-02-19    1611968.17             0        39.93  211.289143   \n",
       "3      1 2010-02-26    1409727.59             0        46.63  211.319643   \n",
       "4      1 2010-05-03    1554806.68             0        46.50  211.350143   \n",
       "\n",
       "   Unemployment  \n",
       "0         8.106  \n",
       "1         8.106  \n",
       "2         8.106  \n",
       "3         8.106  \n",
       "4         8.106  "
      ]
     },
     "execution_count": 10,
     "metadata": {},
     "output_type": "execute_result"
    }
   ],
   "source": [
    "#Dropping the Fuel_Price column\n",
    "walmart_df.drop('Fuel_Price',axis=1,inplace=True)\n",
    "walmart_df.head()"
   ]
  },
  {
   "cell_type": "code",
   "execution_count": 11,
   "metadata": {},
   "outputs": [
    {
     "name": "stdout",
     "output_type": "stream",
     "text": [
      "0    5985\n",
      "1     450\n",
      "Name: Holiday_Flag, dtype: int64\n",
      "43    143\n",
      "41    143\n",
      "33    143\n",
      "29    143\n",
      "25    143\n",
      "21    143\n",
      "17    143\n",
      "13    143\n",
      "9     143\n",
      "5     143\n",
      "1     143\n",
      "44    143\n",
      "40    143\n",
      "36    143\n",
      "32    143\n",
      "28    143\n",
      "24    143\n",
      "20    143\n",
      "16    143\n",
      "12    143\n",
      "8     143\n",
      "37    143\n",
      "45    143\n",
      "39    143\n",
      "2     143\n",
      "35    143\n",
      "31    143\n",
      "27    143\n",
      "23    143\n",
      "19    143\n",
      "15    143\n",
      "11    143\n",
      "7     143\n",
      "3     143\n",
      "42    143\n",
      "38    143\n",
      "34    143\n",
      "30    143\n",
      "26    143\n",
      "22    143\n",
      "18    143\n",
      "14    143\n",
      "10    143\n",
      "6     143\n",
      "4     143\n",
      "Name: Store, dtype: int64\n"
     ]
    }
   ],
   "source": [
    "#Exploring the types and count of categorical Data\n",
    "print(walmart_df['Holiday_Flag'].value_counts())\n",
    "print(walmart_df['Store'].value_counts())"
   ]
  },
  {
   "cell_type": "code",
   "execution_count": 12,
   "metadata": {},
   "outputs": [
    {
     "name": "stdout",
     "output_type": "stream",
     "text": [
      "Store with Maximum Sales is---->Store Number: 20\n"
     ]
    }
   ],
   "source": [
    "#Finding_out_which_store_has_Maximum_sales\n",
    "store_Total_sales=walmart_df.groupby('Store')['Weekly_Sales'].sum() #Calculating the total sales of each store in the given data\n",
    "print('Store with Maximum Sales is---->Store Number:',store_Total_sales.argmax()+1) #getting the position of maximum sales when compared to all the stores, this postion is nothing but the store number with the maximum sale "
   ]
  },
  {
   "cell_type": "markdown",
   "metadata": {},
   "source": [
    "*#In the above case we can use both average sale value as well as total sale value to get the maximum sales but i preferred total sale value because i wanted to check the overall value sales of all the stores over the given time frame and select the store with maximum sale.From this we can infer that Store 20 had the highest sale out of all the stores.*"
   ]
  },
  {
   "cell_type": "code",
   "execution_count": 13,
   "metadata": {},
   "outputs": [
    {
     "name": "stdout",
     "output_type": "stream",
     "text": [
      "Store with Maximum Standard Deviation is---->Store Number: 14\n",
      "Coefficient of variation in the sales of store 14 -----> 0.15713673600948339\n"
     ]
    }
   ],
   "source": [
    "#Which_Store_has_the_Maximum_Standard_Deviation\n",
    "store_sales_Std_Deviation=walmart_df.groupby('Store')['Weekly_Sales'].std() #Calculating the STD_Deviation of each store in the given data\n",
    "print('Store with Maximum Standard Deviation is---->Store Number:',store_sales_Std_Deviation.argmax()+1) # getting the position of maximum value to infer the store with maximum std deviation\n",
    "Sales_of_Store_14=walmart_df[walmart_df['Store']==14]    #Seperating the store 14 data which has the maximum standard deviation in sales\n",
    "Store_14_avg_sales=Sales_of_Store_14['Weekly_Sales'].mean()\n",
    "Store_14_std_sales=Sales_of_Store_14['Weekly_Sales'].std()\n",
    "Coefficient_of_Variation=Store_14_std_sales/Store_14_avg_sales\n",
    "print('Coefficient of variation in the sales of store 14 ----->',Coefficient_of_Variation)"
   ]
  },
  {
   "cell_type": "markdown",
   "metadata": {},
   "source": [
    "*#From this we can infer that the Store 14 has the maximum Standard Deviation in terms of sales which means that the sales in store 14 are hihgly unpredictable and are varying a lot. This could be due to variety of reasons but main point is that the sales in store 14 is higly inconsistent when compared to others. And Also Coefficient of variation gives us the degree of variation from value to other value.*"
   ]
  },
  {
   "cell_type": "code",
   "execution_count": 14,
   "metadata": {},
   "outputs": [
    {
     "name": "stdout",
     "output_type": "stream",
     "text": [
      "Highest date in the dataset---> 2012-12-10 00:00:00\n",
      "Lowest date in the dataset---> 2010-01-10 00:00:00\n"
     ]
    }
   ],
   "source": [
    "#Finding out the time frame in which this data was collected\n",
    "print('Highest date in the dataset--->',walmart_df['Date'].max())\n",
    "print('Lowest date in the dataset--->',walmart_df['Date'].min())"
   ]
  },
  {
   "cell_type": "markdown",
   "metadata": {},
   "source": [
    "#Which Store has good Quarterly Growth Rate in Q3 2012\n",
    "Q3_2012_Sales=walmart_df[(walmart_df['Date']>=pd.to_datetime('2012-07-01'))&(walmart_df['Date']<=pd.to_datetime('2012-09-30'))]\n",
    "#copy_df=walmart_df.copy()\n",
    "#copy_df.set_index('Date',inplace=True) #I have set the index of my DF to Date, so that i can index and gather data for quarters easily\n",
    "#Q3_2012_Sales=copy_df.loc['2012-07':'2012-09'] #I have seperated my Q3 2021 Data from whle dataframe\n",
    "print(Q3_2012_Sales['Date'].max())\n",
    "print(Q3_2012_Sales['Date'].min())\n",
    "dict={}\n",
    "for i in Q3_2012_Sales['Store'].unique():\n",
    "    Current_Value=Q3_2012_Sales[(Q3_2012_Sales['Date']==pd.to_datetime('2012-09-28'))&(Q3_2012_Sales['Store']==i)]['Weekly_Sales'].mean()\n",
    "    past_Value=Q3_2012_Sales[(Q3_2012_Sales['Date']==pd.to_datetime('2012-07-09'))&(Q3_2012_Sales['Store']==i)]['Weekly_Sales'].mean()\n",
    "    Growth_rate=((Current_Value-past_Value)/past_Value)*100\n",
    "    dict[i]=Growth_rate\n",
    "all_values=dict.values()\n",
    "max_value=idxmax\n",
    "max_value"
   ]
  },
  {
   "cell_type": "markdown",
   "metadata": {},
   "source": [
    "#Which Store has good Quarterly Growth Rate in Q3 2012\n",
    "Q3_2012_Sales=walmart_df[(walmart_df['Date']>=pd.to_datetime('2012-07-01'))&(walmart_df['Date']<=pd.to_datetime('2012-09-30'))] #Seperating the data for Q3 alone from whole data set\n",
    "Sorted_df = Q3_2012_Sales.sort_values(by=[\"Store\", \"Date\"])#Sorting out the seperated dataframe so that i would be useful for calculating growth rate\n",
    "print(Sorted_df)\n",
    "Growth_rate=Sorted_df.groupby(\"Store\")['Weekly_Sales'].pct_change() #using lambda function to return the growth\n",
    "Growth_rate\n",
    "#print('Store with Maximum Growth Rate is---->Store Number:',Growth_rate.idxmax())"
   ]
  },
  {
   "cell_type": "markdown",
   "metadata": {},
   "source": [
    "walmart_df['Quarter'] = walmart_df['Date'].dt.quarter\n",
    "walmart_df[walmart_df['Date']>=pd.to_datetime('2012-01-01')].groupby(['Quarter','Store'])['Weekly_Sales'].pct_change()"
   ]
  },
  {
   "cell_type": "code",
   "execution_count": 15,
   "metadata": {},
   "outputs": [
    {
     "name": "stdout",
     "output_type": "stream",
     "text": [
      "<class 'pandas.core.frame.DataFrame'>\n",
      "RangeIndex: 6435 entries, 0 to 6434\n",
      "Data columns (total 7 columns):\n",
      " #   Column        Non-Null Count  Dtype         \n",
      "---  ------        --------------  -----         \n",
      " 0   Store         6435 non-null   int64         \n",
      " 1   Date          6435 non-null   datetime64[ns]\n",
      " 2   Weekly_Sales  6435 non-null   float64       \n",
      " 3   Holiday_Flag  6435 non-null   int64         \n",
      " 4   Temperature   6435 non-null   float64       \n",
      " 5   CPI           6435 non-null   float64       \n",
      " 6   Unemployment  6435 non-null   float64       \n",
      "dtypes: datetime64[ns](1), float64(4), int64(2)\n",
      "memory usage: 352.0 KB\n"
     ]
    }
   ],
   "source": [
    "walmart_df.info()"
   ]
  },
  {
   "cell_type": "code",
   "execution_count": 16,
   "metadata": {},
   "outputs": [
    {
     "data": {
      "text/plain": [
       "0         Sunday\n",
       "1       Thursday\n",
       "2         Friday\n",
       "3         Friday\n",
       "4         Monday\n",
       "          ...   \n",
       "6430      Friday\n",
       "6431    Thursday\n",
       "6432      Monday\n",
       "6433      Friday\n",
       "6434      Friday\n",
       "Name: Date, Length: 6435, dtype: object"
      ]
     },
     "execution_count": 16,
     "metadata": {},
     "output_type": "execute_result"
    }
   ],
   "source": [
    "Day_of_week=walmart_df['Date']\n",
    "Day_of_week.dt.dayofweek\n",
    "Day_of_week.dt.day_name()"
   ]
  },
  {
   "cell_type": "code",
   "execution_count": 17,
   "metadata": {},
   "outputs": [
    {
     "name": "stdout",
     "output_type": "stream",
     "text": [
      "      Store       Date  Holiday_Flag  Temperature         CPI  Unemployment\n",
      "0         1 2010-05-02             0        42.31  211.096358         8.106\n",
      "1         1 2010-12-02             1        38.51  211.242170         8.106\n",
      "2         1 2010-02-19             0        39.93  211.289143         8.106\n",
      "3         1 2010-02-26             0        46.63  211.319643         8.106\n",
      "4         1 2010-05-03             0        46.50  211.350143         8.106\n",
      "...     ...        ...           ...          ...         ...           ...\n",
      "6430     45 2012-09-28             0        64.88  192.013558         8.684\n",
      "6431     45 2012-05-10             0        64.89  192.170412         8.667\n",
      "6432     45 2012-12-10             0        54.47  192.327265         8.667\n",
      "6433     45 2012-10-19             0        56.47  192.330854         8.667\n",
      "6434     45 2012-10-26             0        58.85  192.308899         8.667\n",
      "\n",
      "[6435 rows x 6 columns]\n",
      "0       1643690.90\n",
      "1       1641957.44\n",
      "2       1611968.17\n",
      "3       1409727.59\n",
      "4       1554806.68\n",
      "           ...    \n",
      "6430     713173.95\n",
      "6431     733455.07\n",
      "6432     734464.36\n",
      "6433     718125.53\n",
      "6434     760281.43\n",
      "Name: Weekly_Sales, Length: 6435, dtype: float64\n"
     ]
    }
   ],
   "source": [
    "#Storing Dataframe in variables for Building an ML model\n",
    "x=walmart_df.drop('Weekly_Sales',axis=1)\n",
    "y=walmart_df['Weekly_Sales']\n",
    "print(x)\n",
    "print(y)"
   ]
  },
  {
   "cell_type": "code",
   "execution_count": 18,
   "metadata": {},
   "outputs": [
    {
     "name": "stdout",
     "output_type": "stream",
     "text": [
      "      Store       Date  Holiday_Flag  Temperature         CPI  Unemployment\n",
      "890       7 2010-09-17             0        48.56  190.468829         9.017\n",
      "2125     15 2012-06-15             0        67.70  138.129533         8.150\n",
      "686       5 2012-04-13             0        70.56  222.097111         5.801\n",
      "3089     22 2011-09-30             0        69.78  140.381000         8.023\n",
      "2661     19 2011-07-10             0        53.10  136.472000         7.866\n",
      "      Store       Date  Holiday_Flag  Temperature         CPI  Unemployment\n",
      "3042     22 2010-05-11             0        44.34  136.786226         8.572\n",
      "5329     38 2010-10-29             0        61.09  126.436419        14.313\n",
      "5524     39 2011-10-28             0        71.05  216.405131         7.716\n",
      "1316     10 2010-08-27             0        84.99  126.089290         9.199\n",
      "1463     11 2010-09-24             0        77.36  214.908452         7.346\n",
      "890      489408.53\n",
      "2125     636737.65\n",
      "686      351832.03\n",
      "3089     953314.16\n",
      "2661    1461718.87\n",
      "Name: Weekly_Sales, dtype: float64\n",
      "3042    1006888.16\n",
      "5329     341219.63\n",
      "5524    1472663.10\n",
      "1316    1727565.42\n",
      "1463    1170103.25\n",
      "Name: Weekly_Sales, dtype: float64\n"
     ]
    }
   ],
   "source": [
    "#splitting the data for training and testing\n",
    "from sklearn.model_selection import train_test_split\n",
    "x_train,x_test,y_train,y_test=train_test_split(x,y,train_size=0.7,random_state=10)\n",
    "print(x_test.head())\n",
    "print(x_train.head())\n",
    "print(y_test.head())\n",
    "print(y_train.head())"
   ]
  }
 ],
 "metadata": {
  "kernelspec": {
   "display_name": "Python 3",
   "language": "python",
   "name": "python3"
  },
  "language_info": {
   "codemirror_mode": {
    "name": "ipython",
    "version": 3
   },
   "file_extension": ".py",
   "mimetype": "text/x-python",
   "name": "python",
   "nbconvert_exporter": "python",
   "pygments_lexer": "ipython3",
   "version": "3.7.6"
  }
 },
 "nbformat": 4,
 "nbformat_minor": 4
}
